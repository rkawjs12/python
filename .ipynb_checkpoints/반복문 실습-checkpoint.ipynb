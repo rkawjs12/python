{
 "cells": [
  {
   "cell_type": "markdown",
   "metadata": {},
   "source": [
    "# 반복문 for 이상한거 많다"
   ]
  },
  {
   "cell_type": "code",
   "execution_count": 12,
   "metadata": {},
   "outputs": [
    {
     "name": "stdout",
     "output_type": "stream",
     "text": [
      "55\n"
     ]
    }
   ],
   "source": [
    "#1~10까지 합\n",
    "'''\n",
    "i = 0\n",
    "이건 되는 것\n",
    "while(i<10):\n",
    "    sum +=i+1\n",
    "    i = i+1\n",
    "print(sum)\n",
    "'''\n",
    "sum = 0\n",
    "for i in range(10):\n",
    "    #for i in range(0:10)\n",
    "        sum +=i+1\n",
    "\n",
    "print(sum)"
   ]
  },
  {
   "cell_type": "code",
   "execution_count": 10,
   "metadata": {},
   "outputs": [
    {
     "name": "stdout",
     "output_type": "stream",
     "text": [
      "8\n"
     ]
    }
   ],
   "source": [
    "#'computational thinking'에서 머음만 출력\n",
    "com = 'computational thinking'\n",
    "sum = 0\n",
    "\n",
    "for x in com:\n",
    "    if x == 'a' or x == 'e' or x == 'i' or x == 'o' or x == 'u':\n",
    "        sum +=1\n",
    "print(sum)\n"
   ]
  },
  {
   "cell_type": "code",
   "execution_count": 18,
   "metadata": {},
   "outputs": [
    {
     "name": "stdout",
     "output_type": "stream",
     "text": [
      "[(0, 5), (0, 6), (0, 7), (0, 8), (0, 9), (0, 10), (1, 5), (1, 6), (1, 7), (1, 8), (1, 9), (1, 10), (2, 5), (2, 6), (2, 7), (2, 8), (2, 9), (2, 10), (3, 5), (3, 6), (3, 7), (3, 8), (3, 9), (3, 10), (4, 5), (4, 6), (4, 7), (4, 8), (4, 9), (4, 10)]\n"
     ]
    }
   ],
   "source": [
    "x= [0,1,2,3,4]\n",
    "y=[5,6,7,8,9,10]\n",
    "\n",
    "print([(i,j) for i in x for j in y])\n",
    "        "
   ]
  },
  {
   "cell_type": "code",
   "execution_count": 18,
   "metadata": {},
   "outputs": [
    {
     "name": "stdout",
     "output_type": "stream",
     "text": [
      "[0, 2, 4, 6, 8, 10]\n"
     ]
    }
   ],
   "source": [
    "#[0,2,4,6,8,10]\n",
    "\n",
    "List = [x for x in range(11) if x%2 == 0]\n",
    "print(List)"
   ]
  },
  {
   "cell_type": "code",
   "execution_count": 30,
   "metadata": {},
   "outputs": [
    {
     "data": {
      "text/plain": [
       "[('BE', 'be', 2), ('THE', 'the', 3), ('BEST', 'best', 4)]"
      ]
     },
     "execution_count": 30,
     "metadata": {},
     "output_type": "execute_result"
    }
   ],
   "source": [
    "#phrase = 'Be the best'\n",
    "\n",
    "phrase = 'Be the best'\n",
    "#list = phrase.split()\n",
    "\n",
    "[(x.upper(),x.lower(), len(x)) for x in phrase.split()]\n"
   ]
  },
  {
   "cell_type": "code",
   "execution_count": 28,
   "metadata": {},
   "outputs": [
    {
     "name": "stdout",
     "output_type": "stream",
     "text": [
      "[5, 6, 7]\n"
     ]
    }
   ],
   "source": [
    "#1에서 10까지의 숫자에서 for문과 continue와 break를 활용 [5,6,7]\n",
    "list = []\n",
    "\n",
    "for x in range(10):\n",
    "    if x<5:\n",
    "        continue\n",
    "    elif 5<=x<=7:\n",
    "        list.append(x)\n",
    "    else:\n",
    "        break\n",
    "print(list)"
   ]
  },
  {
   "cell_type": "code",
   "execution_count": 4,
   "metadata": {},
   "outputs": [
    {
     "name": "stdout",
     "output_type": "stream",
     "text": [
      "과목 점수를 입력하세요1\n",
      "과목 점수를 입력하세요2\n",
      "과목 점수를 입력하세요34\n",
      "과목 점수를 입력하세요5\n",
      "과목 점수를 입력하세요6\n",
      "[1, 2, 34, 5, 6]\n",
      "9.6\n"
     ]
    }
   ],
   "source": [
    "#5과목의 점수를  받아서 평균을 계산\n",
    "#input5번 받아야한다.\n",
    "list = []\n",
    "sum = 0\n",
    "for i in range(5):\n",
    "    num=int(input(\"과목 점수를 입력하세요\"))\n",
    "    list.append(num)\n",
    "    sum+=num\n",
    "    \n",
    "print(list)\n",
    "print(sum/len(list))"
   ]
  },
  {
   "cell_type": "code",
   "execution_count": 2,
   "metadata": {
    "scrolled": false
   },
   "outputs": [
    {
     "name": "stdout",
     "output_type": "stream",
     "text": [
      "숫자 입력: 5\n",
      "120\n",
      "120\n"
     ]
    }
   ],
   "source": [
    "#팩토리얼 계산기\n",
    "sum = 1\n",
    "num = int(input(\"숫자 입력: \"))\n",
    "for i in range(num):\n",
    "    sum *= i+1\n",
    "print(sum)\n",
    "\n",
    "sum = 1\n",
    "i = 0\n",
    "while num>i:\n",
    "    sum *= i+1\n",
    "    i+= 1\n",
    "print(sum)"
   ]
  },
  {
   "cell_type": "code",
   "execution_count": 5,
   "metadata": {},
   "outputs": [
    {
     "name": "stdout",
     "output_type": "stream",
     "text": [
      "[1, 3, 5]\n"
     ]
    }
   ],
   "source": [
    "#continue로 홀수만 뽑기\n",
    "scope = [1,2,3,4,5]\n",
    "list = []\n",
    "for i in scope:\n",
    "    if i% 2 == 0:\n",
    "        continue\n",
    "    else:\n",
    "        list.append(i)\n",
    "        \n",
    "print(list)"
   ]
  },
  {
   "cell_type": "code",
   "execution_count": 1,
   "metadata": {},
   "outputs": [
    {
     "name": "stdout",
     "output_type": "stream",
     "text": [
      "숫자 입력 ㄱㄱ: 5\n",
      "6 9\n"
     ]
    }
   ],
   "source": [
    "#입력 받은 수까지 홀수 합, 짝수 합\n",
    "n= int(input(\"숫자 입력 ㄱㄱ: \"))\n",
    "\n",
    "sumjj = 0\n",
    "sumho = 0\n",
    "\n",
    "for x in range(n+1):\n",
    "    if x%2 == 0:\n",
    "        sumjj += x\n",
    "    else:\n",
    "        sumho +=x\n",
    "print(sumjj, sumho)"
   ]
  },
  {
   "cell_type": "code",
   "execution_count": 2,
   "metadata": {},
   "outputs": [
    {
     "name": "stdout",
     "output_type": "stream",
     "text": [
      "100 60\n"
     ]
    }
   ],
   "source": [
    "#리스트에서 for문을 사용해서 최대값, 최소값 구하기\n",
    "L = [70,100,80,60,90]\n",
    "bx = sx = L[0]\n",
    "\n",
    "for x in L:\n",
    "    if bx<= x:\n",
    "        bx = x\n",
    "    elif sx> x:\n",
    "        sx = x\n",
    "print(bx, sx)\n"
   ]
  },
  {
   "cell_type": "code",
   "execution_count": 7,
   "metadata": {},
   "outputs": [
    {
     "name": "stdout",
     "output_type": "stream",
     "text": [
      "1 * 1 = 1   1 * 2 = 2   1 * 3 = 3   1 * 4 = 4   1 * 5 = 5   1 * 6 = 6   1 * 7 = 7   1 * 8 = 8   1 * 9 = 9   \n",
      "\n",
      "\n",
      "2 * 1 = 2   2 * 2 = 4   2 * 3 = 6   2 * 4 = 8   2 * 5 = 10   2 * 6 = 12   2 * 7 = 14   2 * 8 = 16   2 * 9 = 18   \n",
      "\n",
      "\n",
      "3 * 1 = 3   3 * 2 = 6   3 * 3 = 9   3 * 4 = 12   3 * 5 = 15   3 * 6 = 18   3 * 7 = 21   3 * 8 = 24   3 * 9 = 27   \n",
      "\n",
      "\n",
      "4 * 1 = 4   4 * 2 = 8   4 * 3 = 12   4 * 4 = 16   4 * 5 = 20   4 * 6 = 24   4 * 7 = 28   4 * 8 = 32   4 * 9 = 36   \n",
      "\n",
      "\n",
      "5 * 1 = 5   5 * 2 = 10   5 * 3 = 15   5 * 4 = 20   5 * 5 = 25   5 * 6 = 30   5 * 7 = 35   5 * 8 = 40   5 * 9 = 45   \n",
      "\n",
      "\n",
      "6 * 1 = 6   6 * 2 = 12   6 * 3 = 18   6 * 4 = 24   6 * 5 = 30   6 * 6 = 36   6 * 7 = 42   6 * 8 = 48   6 * 9 = 54   \n",
      "\n",
      "\n",
      "7 * 1 = 7   7 * 2 = 14   7 * 3 = 21   7 * 4 = 28   7 * 5 = 35   7 * 6 = 42   7 * 7 = 49   7 * 8 = 56   7 * 9 = 63   \n",
      "\n",
      "\n",
      "8 * 1 = 8   8 * 2 = 16   8 * 3 = 24   8 * 4 = 32   8 * 5 = 40   8 * 6 = 48   8 * 7 = 56   8 * 8 = 64   8 * 9 = 72   \n",
      "\n",
      "\n",
      "9 * 1 = 9   9 * 2 = 18   9 * 3 = 27   9 * 4 = 36   9 * 5 = 45   9 * 6 = 54   9 * 7 = 63   9 * 8 = 72   9 * 9 = 81   \n",
      "\n",
      "\n"
     ]
    }
   ],
   "source": [
    "#구구단 출력\n",
    "\n",
    "\n",
    "for x in range(1,10):\n",
    "    for y in range(1,10):\n",
    "        print('{} * {} = {}  '.format(x,y,x*y ), end = ' ')\n",
    "    print('\\n\\n') \n",
    "    "
   ]
  },
  {
   "cell_type": "code",
   "execution_count": 4,
   "metadata": {},
   "outputs": [
    {
     "name": "stdout",
     "output_type": "stream",
     "text": [
      "숫자 입력 ㄱㄱ: 50\n",
      "소수아님\n"
     ]
    },
    {
     "data": {
      "text/plain": [
       "'\\nfor i in range(2,n+1):\\n    if n%i == 0:\\n        if n==i:\\n            print(\"소수임\")\\n            \\n        else: \\n            print(\"소수아님\")\\n            continue\\n'"
      ]
     },
     "execution_count": 4,
     "metadata": {},
     "output_type": "execute_result"
    }
   ],
   "source": [
    "\n",
    "\n",
    "#받은 수가 소수인지 확인\n",
    "n = int(input(\"숫자 입력 ㄱㄱ: \"))\n",
    "if n ==1:\n",
    "    print(\"소수x\")\n",
    "elif n ==2:\n",
    "    print(\"소수o\")\n",
    "else:\n",
    "    for x in range(2,n):\n",
    "        if n%x == 0:\n",
    "            print(\"소수아님\")\n",
    "            break\n",
    "        elif x+1 == n:\n",
    "            print(\"소수임\")\n",
    "\n",
    "'''\n",
    "for i in range(2,n+1):\n",
    "    if n%i == 0:\n",
    "        if n==i:\n",
    "            print(\"소수임\")\n",
    "            \n",
    "        else: \n",
    "            print(\"소수아님\")\n",
    "            continue\n",
    "'''\n"
   ]
  },
  {
   "cell_type": "code",
   "execution_count": 6,
   "metadata": {},
   "outputs": [
    {
     "name": "stdout",
     "output_type": "stream",
     "text": [
      "숫자 입력해라: 5\n",
      "\n",
      "\n",
      "* \n",
      "\n",
      "* * \n",
      "\n",
      "* * * \n",
      "\n",
      "* * * * \n",
      "\n",
      "* * * * * \n",
      "\n"
     ]
    }
   ],
   "source": [
    "#별찍기\n",
    "n = int(input(\"숫자 입력해라: \"))\n",
    "i=0\n",
    "while i<n+1 :\n",
    "    for x in range(i):\n",
    "        print(\"*\",end = ' ')\n",
    "    \n",
    "    print(\"\\n\")\n",
    "    i+=1\n"
   ]
  },
  {
   "cell_type": "code",
   "execution_count": 1,
   "metadata": {},
   "outputs": [
    {
     "name": "stdout",
     "output_type": "stream",
     "text": [
      "숫자 입력해라: 5\n",
      " *****\n",
      "  ****\n",
      "   ***\n",
      "    **\n",
      "     *\n"
     ]
    }
   ],
   "source": [
    "#별찍기\n",
    "n = int(input(\"숫자 입력해라: \"))\n",
    "for i in range(n):\n",
    "    print(' '*i, '*'*(n-i))\n",
    "        \n",
    "        \n",
    "    "
   ]
  },
  {
   "cell_type": "code",
   "execution_count": 10,
   "metadata": {},
   "outputs": [
    {
     "name": "stdout",
     "output_type": "stream",
     "text": [
      "숫자 입력해라: 5\n",
      "      *\n",
      "     **\n",
      "    ***\n",
      "   ****\n",
      "  *****\n"
     ]
    }
   ],
   "source": [
    "#별찍기\n",
    "n = int(input(\"숫자 입력해라: \"))\n",
    "\n",
    "for i in range(n):\n",
    "    print(' '*(n-i),'*'*(i+1) )\n",
    "\n",
    "\n",
    "\n"
   ]
  },
  {
   "cell_type": "code",
   "execution_count": 11,
   "metadata": {},
   "outputs": [
    {
     "name": "stdout",
     "output_type": "stream",
     "text": [
      "숫자 입력해라: 5\n",
      "*****  \n",
      "****   \n",
      "***    \n",
      "**     \n",
      "*      \n"
     ]
    }
   ],
   "source": [
    "#별찍기\n",
    "n = int(input(\"숫자 입력해라: \"))\n",
    "for i in range(n):\n",
    "    print('*'*(n-i),' '*(i+1) )\n",
    "\n",
    "\n",
    "\n",
    "\n"
   ]
  },
  {
   "cell_type": "code",
   "execution_count": null,
   "metadata": {},
   "outputs": [],
   "source": [
    "#별찍기\n",
    "n = int(input(\"숫자 입력해라: \"))\n",
    "for i in range(1,10,2):\n",
    "    print('{:^10}',format('*'*i))\n",
    "#위의 문장은 print('{}',format('alice'))의 구조라고 생각하면 된다.\n",
    "#그런데 :는 정렬해라 라는 의미를 가지고 있고, ^는 가운데 정렬을 의미한다. 10은 10칸을 의미한다.\n",
    "#뒤에 format('*'*i)는 '*'을 i번 곱해서 프린트 하라는 의미다.\n",
    "\n",
    "\n"
   ]
  },
  {
   "cell_type": "code",
   "execution_count": null,
   "metadata": {},
   "outputs": [],
   "source": []
  }
 ],
 "metadata": {
  "kernelspec": {
   "display_name": "Python 3",
   "language": "python",
   "name": "python3"
  },
  "language_info": {
   "codemirror_mode": {
    "name": "ipython",
    "version": 3
   },
   "file_extension": ".py",
   "mimetype": "text/x-python",
   "name": "python",
   "nbconvert_exporter": "python",
   "pygments_lexer": "ipython3",
   "version": "3.7.3"
  }
 },
 "nbformat": 4,
 "nbformat_minor": 2
}
