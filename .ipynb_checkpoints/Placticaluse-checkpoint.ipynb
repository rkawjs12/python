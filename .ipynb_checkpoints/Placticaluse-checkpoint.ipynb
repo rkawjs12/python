{
 "cells": [
  {
   "cell_type": "markdown",
   "metadata": {},
   "source": [
    "# practicaluse"
   ]
  },
  {
   "cell_type": "code",
   "execution_count": 1,
   "metadata": {},
   "outputs": [
    {
     "name": "stdout",
     "output_type": "stream",
     "text": [
      "아무 숫자를 입력하세요: 123456789\n",
      "987654321\n",
      "123,456,789\n"
     ]
    }
   ],
   "source": [
    "#정수를 입력받고 천자리에 ','를 표시하세요\n",
    "\n",
    "num = input('아무 숫자를 입력하세요: ')\n",
    "\n",
    "\n",
    "num = num[::-1]\n",
    "#print(num)\n",
    "#역순으로 바꿔준다.\n",
    "#num[::-1] 이거 자체가 역순으로 만들어준 것이다.\n",
    "#즉 한글자 한글자 넘겨주는 것이 아니고 역순을 한 후에 넘겨주는 것이다.\n",
    "\n",
    "\n",
    "ret = ''\n",
    "for i,c in enumerate(num):\n",
    "    #enumerate의 첫번째 숫자는 0이다.\n",
    "    i=i+1\n",
    "    if i !=len(num) and i%3==0 :\n",
    "        ret +=(c +',')\n",
    "    else:\n",
    "        ret +=c\n",
    "ret = ret[::-1]\n",
    "\n",
    "print(ret)\n",
    "\n"
   ]
  },
  {
   "cell_type": "code",
   "execution_count": 15,
   "metadata": {},
   "outputs": [
    {
     "name": "stdout",
     "output_type": "stream",
     "text": [
      "{'h': 3, 'e': 4, 'l': 4, 'o': 2, ' ': 2, 'w': 4, 'r': 5, 'd': 1, 'a': 6, 's': 2, 'u': 2, 'n': 1, 't': 3, 'g': 4, 'b': 4, 'k': 2, 'y': 4, 'v': 1, 'x': 1, 'm': 1, 'j': 2, 'q': 3, 'i': 1}\n"
     ]
    }
   ],
   "source": [
    "#파일을 읽어서 해당 파일에 쓰여진 알파벳의 갯수를 파악해서 딕셔너리에 저장하는 함수\n",
    "\n",
    "\n",
    "def getTextFreq(filename):\n",
    "    f = open(filename,'r')\n",
    "    data = f.read()\n",
    "    ret = {}\n",
    "\n",
    "    for c in data:\n",
    "        if c in ret:\n",
    "            ret[c] +=1\n",
    "        else:\n",
    "            ret[c] = 1\n",
    "    return ret\n",
    "    f.close()\n",
    "    \n",
    "    \n",
    "    \n",
    "\n",
    "ret = getTextFreq('mydata3.txt')\n",
    "print(ret)"
   ]
  },
  {
   "cell_type": "code",
   "execution_count": 2,
   "metadata": {},
   "outputs": [
    {
     "name": "stdout",
     "output_type": "stream",
     "text": [
      "찾을 단어를 입력하세요: a\n",
      "변경할 단어를 입력하세요: s\n",
      "[a]를 [s]로 변경하였습니다.\n"
     ]
    }
   ],
   "source": [
    "t1 = input(\"찾을 단어를 입력하세요: \")\n",
    "t2 = input(\"변경할 단어를 입력하세요: \")\n",
    "\n",
    "f= open('mydata4.txt','r')\n",
    "g= open('mydata5.txt', 'w')\n",
    "\n",
    "data = f.read()\n",
    "data = data.replace(t1, t2)\n",
    "g.write(data)\n",
    "\n",
    "\n",
    "f.close()\n",
    "g.close()\n",
    "\n",
    "\n",
    "'''\n",
    "string  = f.read()\n",
    "for i in string:\n",
    "    if i == t1:\n",
    "        string[string.index(i)]=t2\n",
    "    else :\n",
    "        continue\n",
    "\n",
    "'''\n",
    "\n",
    "print('[%s]를 [%s]로 변경하였습니다.' %(t1,t2))"
   ]
  },
  {
   "cell_type": "code",
   "execution_count": 3,
   "metadata": {},
   "outputs": [
    {
     "name": "stdout",
     "output_type": "stream",
     "text": [
      "단어 입력하세요: asd\n",
      "[asd]의 개수: 0\n"
     ]
    }
   ],
   "source": [
    "#파일에서 단어의 갯수를 출력하는 함수를 만드세요\n",
    "def countWord(filename,word):\n",
    "    \n",
    "    f = open(filename,'r')\n",
    "    stringf = f.read()\n",
    "    f.close()\n",
    "    return stringf.count(word)\n",
    "    \n",
    "word = input(\"단어 입력하세요: \")\n",
    "ret = countWord('mydata6.txt',word)\n",
    "print('[%s]의 개수: %d' %(word,ret))\n"
   ]
  },
  {
   "cell_type": "code",
   "execution_count": null,
   "metadata": {},
   "outputs": [],
   "source": []
  },
  {
   "cell_type": "code",
   "execution_count": null,
   "metadata": {},
   "outputs": [],
   "source": []
  }
 ],
 "metadata": {
  "kernelspec": {
   "display_name": "Python 3",
   "language": "python",
   "name": "python3"
  },
  "language_info": {
   "codemirror_mode": {
    "name": "ipython",
    "version": 3
   },
   "file_extension": ".py",
   "mimetype": "text/x-python",
   "name": "python",
   "nbconvert_exporter": "python",
   "pygments_lexer": "ipython3",
   "version": "3.7.3"
  }
 },
 "nbformat": 4,
 "nbformat_minor": 2
}
