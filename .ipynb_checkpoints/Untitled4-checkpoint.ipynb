{
 "cells": [
  {
   "cell_type": "code",
   "execution_count": 1,
   "metadata": {},
   "outputs": [],
   "source": [
    "#text1 = 'python programming'\n",
    "#'g'를 출력하세요\n",
    "#'pro'를 출력하세요\n",
    "#'gram'이; 포함되어 있는지 확인하세요.\n",
    "#모두 대문자로 바꾸세요\n",
    "#'p'자의 개수를 출력하세요\n",
    "#스페이스(공백)을 기준으로 분리하세요\n",
    "#'-'를 기준으로 두 단어를 연결하세요\n",
    "#양쪽의 공백을 제거하세요\n",
    "#'python'을 'hello'로 바꾸세요"
   ]
  },
  {
   "cell_type": "code",
   "execution_count": 2,
   "metadata": {},
   "outputs": [],
   "source": [
    "#solarsys = ['태양','수성','금성','지구','화성','목성','지구']\n",
    "#silarsys1 = ['토성','천왕성'.'해왕성']\n",
    "#planet = '지구'\n",
    "\n",
    "#solarsys에서 ['수성','금성','지구']를 출력\n",
    "#        에서 지구의 위치값 출력\n",
    "#        에서 홧겅을 해왕성으로 수정\n",
    "#       에서 수성 자리에 명왕성을 삽입\n",
    "#        에 토성을 맨 끝에 첨가\n",
    "#        에 맨 끝 요소를 제거하고 리턴\n",
    "#        에서 1번째에서 3번째까지 삭제\n",
    "#        에서 인덱스 값 2번 요소를 삭제\n",
    "#        와     1을 합하시오\n",
    "#        를 오름차순으로 정렬하세요\n",
    "#        를 내림차순으로 정렬하세요\n",
    "#         원소의 순서를 바꾸세요\n",
    "#        에 만리장성이 있는지 확인하세요\n",
    "#        를 3번 반복하세요\n",
    "#        의 길이를 리턴하세요\n",
    "#        에서 지구의 갯수를 출력하세요.\n",
    "#        의 모든 원소를 지우세요\n",
    "#         리스트를 삭제하세요"
   ]
  },
  {
   "cell_type": "code",
   "execution_count": null,
   "metadata": {},
   "outputs": [],
   "source": [
    "#dictionary\n",
    "\n",
    "#mydict이라는 빈 딕셔너리를 만드세요\n",
    "#red:1, blue:3 greem:4 세 요소를 추가하세요\n",
    "#green의 value를 7로 수정하세요\n",
    "#mydict dictionary를 출력하세요\n",
    "#kye 값에 blue가 포함되어 있는지 확인하세요\n",
    "#mydic의 길이를 출력하세요\n",
    "#복사해서 mydict2를 만드세요\n",
    "#get을 이용해서 red의 value값을 출력하세요\n",
    "#kye값만 리스트로 추력하세요\n",
    "#value값들만 리스트로 출력하세요\n",
    "#key와 value의 튜플 쌍으로 각 요소를 출력하세요\n",
    "#key ;black;의 value를 출력하고 없으면 key black와 value 5로 삽입하세요\n",
    "#key를 기준으로 정렬하세요\n",
    "#value를 기준으로 정렬하세요\n",
    "#키 blue와 value를 삭제하세요\n",
    "#blue를 삭제하면서 value값을 동시에 리턴하세요\n",
    "#모든 요소를 삭제하세요\n",
    "#mydict를 삭제하세요"
   ]
  }
 ],
 "metadata": {
  "kernelspec": {
   "display_name": "Python 3",
   "language": "python",
   "name": "python3"
  },
  "language_info": {
   "codemirror_mode": {
    "name": "ipython",
    "version": 3
   },
   "file_extension": ".py",
   "mimetype": "text/x-python",
   "name": "python",
   "nbconvert_exporter": "python",
   "pygments_lexer": "ipython3",
   "version": "3.7.3"
  }
 },
 "nbformat": 4,
 "nbformat_minor": 2
}
