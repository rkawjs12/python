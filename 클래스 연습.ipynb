{
 "cells": [
  {
   "cell_type": "markdown",
   "metadata": {},
   "source": [
    "# 클래스 만들기 "
   ]
  },
  {
   "cell_type": "code",
   "execution_count": 5,
   "metadata": {},
   "outputs": [
    {
     "name": "stdout",
     "output_type": "stream",
     "text": [
      "314.0\n",
      "62.800000000000004\n"
     ]
    }
   ],
   "source": [
    "#attribute(속성) - 반지름\n",
    "#method - init, 원의 넓이 구하기, 원의 둘레길이 구하기\n",
    "\n",
    "class sucle:\n",
    "    def __init__(self, r_scu):\n",
    "        self.r = r_scu\n",
    "        \n",
    "    def suclenul(self):\n",
    "        print(self.r**2*3.14)\n",
    "        \n",
    "    def sucleround(self):\n",
    "        print(self.r*2*3.14)\n",
    "\n",
    "        \n",
    "mysu = sucle(10)\n",
    "\n",
    "mysu.suclenul()\n",
    "mysu.sucleround()\n",
    "        "
   ]
  },
  {
   "cell_type": "code",
   "execution_count": 16,
   "metadata": {},
   "outputs": [
    {
     "name": "stdout",
     "output_type": "stream",
     "text": [
      "********************\n",
      "이름: 유승우\n",
      "이메일: btmddn333@naver.com\n",
      "주소: 서울 신림동\n",
      "********************\n",
      "이름: 변다슬\n",
      "이메일: byundslove@naver.com\n",
      "주소: 멀티캠퍼스 A반\n"
     ]
    }
   ],
   "source": [
    " class auddka:\n",
    "        def __init__(self,name,email,addr):\n",
    "            self.name = name\n",
    "            self.email = email\n",
    "            self.addr = addr\n",
    "            \n",
    "        def setinfo(self, name , email, addr):\n",
    "            self.name = name\n",
    "            self.email = email\n",
    "            self.addr = addr\n",
    "        \n",
    "        def print_info(self):\n",
    "            print('*'*20)\n",
    "            print(\"이름: \"+self.name)\n",
    "            print(\"이메일: \"+self.email)\n",
    "            print(\"주소: \"+self.addr)\n",
    "\n",
    "auddkarorcp = auddka('유승우','btmddn333@naver.com','서울 신림동')\n",
    "auddkarorcp.print_info()\n",
    "auddkarorcp.setinfo('변다슬','byundslove@naver.com','멀티캠퍼스 A반')\n",
    "auddkarorcp.print_info()"
   ]
  },
  {
   "cell_type": "code",
   "execution_count": 27,
   "metadata": {},
   "outputs": [
    {
     "name": "stdout",
     "output_type": "stream",
     "text": [
      "-5\n",
      "0.9\n",
      "2250\n",
      "95\n"
     ]
    }
   ],
   "source": [
    "#사칙연산 클래스 구현\n",
    "#attribute(속성) - first, second\n",
    "#method-init, sum, mul , sub, div\n",
    "\n",
    "\n",
    "class tkclrdustks() :\n",
    "    def __init__(self, first, second):\n",
    "        self.first = first\n",
    "        self.second = second\n",
    "        \n",
    "    def setinfo(first,second):\n",
    "        self.first = first\n",
    "        self.second = second\n",
    "    \n",
    "    def sum(self):\n",
    "        return self.first + self.second\n",
    "    def mul(self):\n",
    "        return self.first * self.second\n",
    "    def sub(self):\n",
    "        return self.first - self.second\n",
    "    def div(self):\n",
    "        return self.first / self.second\n",
    "\n",
    "\n",
    "aa = tkclrdustks(45,50)\n",
    "\n",
    "print(aa.sub())\n",
    "print(aa.div())\n",
    "print(aa.mul())\n",
    "print(aa.sum())\n",
    "\n"
   ]
  },
  {
   "cell_type": "code",
   "execution_count": 30,
   "metadata": {},
   "outputs": [
    {
     "name": "stdout",
     "output_type": "stream",
     "text": [
      "16\n",
      "0\n"
     ]
    }
   ],
   "source": [
    "#상속 지수승\n",
    "\n",
    "class wltntmd(tkclrdustks):\n",
    "    def wltnrPtks(self):\n",
    "        return self.first**self.second\n",
    "\n",
    "\n",
    "bb= wltntmd(4,2)\n",
    "\n",
    "print(bb.wltnrPtks())\n",
    "\n",
    "#오버라이딩\n",
    "class SafeFourCal(tkclrdustks):\n",
    "    def div(self):\n",
    "        if self.second == 0 :\n",
    "            return 0\n",
    "        else:\n",
    "            return(self.first/self.second)\n",
    "\n",
    "dlrjs = SafeFourCal(0,0)\n",
    "print(dlrjs.div())\n"
   ]
  },
  {
   "cell_type": "code",
   "execution_count": 1,
   "metadata": {},
   "outputs": [
    {
     "data": {
      "text/plain": [
       "{}"
      ]
     },
     "execution_count": 1,
     "metadata": {},
     "output_type": "execute_result"
    }
   ],
   "source": [
    "kwords = lambda x, *args, **kw: kw \n",
    "kwords(1, 2, 3) "
   ]
  },
  {
   "cell_type": "code",
   "execution_count": 19,
   "metadata": {},
   "outputs": [
    {
     "name": "stdout",
     "output_type": "stream",
     "text": [
      "[('s', 2), ('a', 456)]\n"
     ]
    }
   ],
   "source": [
    "def orm(**kw):\n",
    "    print(sorted(kw.items(), key = lambda x:x[1]))\n",
    "\n",
    "orm(s=2, a=456)"
   ]
  },
  {
   "cell_type": "code",
   "execution_count": 15,
   "metadata": {},
   "outputs": [],
   "source": [
    "d = {'c': 3, 'b': 2, 'a': 1}"
   ]
  },
  {
   "cell_type": "code",
   "execution_count": 17,
   "metadata": {},
   "outputs": [
    {
     "ename": "AttributeError",
     "evalue": "'dict' object has no attribute 'item'",
     "output_type": "error",
     "traceback": [
      "\u001b[1;31m---------------------------------------------------------------------------\u001b[0m",
      "\u001b[1;31mAttributeError\u001b[0m                            Traceback (most recent call last)",
      "\u001b[1;32m<ipython-input-17-d098d0b0f36c>\u001b[0m in \u001b[0;36m<module>\u001b[1;34m\u001b[0m\n\u001b[1;32m----> 1\u001b[1;33m \u001b[0mprint\u001b[0m\u001b[1;33m(\u001b[0m\u001b[0md\u001b[0m\u001b[1;33m.\u001b[0m\u001b[0mitem\u001b[0m\u001b[1;33m(\u001b[0m\u001b[1;33m)\u001b[0m\u001b[1;33m)\u001b[0m\u001b[1;33m\u001b[0m\u001b[1;33m\u001b[0m\u001b[0m\n\u001b[0m",
      "\u001b[1;31mAttributeError\u001b[0m: 'dict' object has no attribute 'item'"
     ]
    }
   ],
   "source": [
    "print(d.item())"
   ]
  },
  {
   "cell_type": "code",
   "execution_count": 20,
   "metadata": {},
   "outputs": [],
   "source": [
    "def sort_value (**k):\n",
    "    print ( sorted(k.items(), key = lambda x:x[1]) )"
   ]
  },
  {
   "cell_type": "code",
   "execution_count": 21,
   "metadata": {},
   "outputs": [
    {
     "name": "stdout",
     "output_type": "stream",
     "text": [
      "[('x', 1), ('z', 2), ('y', 3)]\n"
     ]
    }
   ],
   "source": [
    "sort_value(x =1, y=3, z=2)"
   ]
  },
  {
   "cell_type": "code",
   "execution_count": null,
   "metadata": {},
   "outputs": [],
   "source": []
  }
 ],
 "metadata": {
  "kernelspec": {
   "display_name": "Python 3",
   "language": "python",
   "name": "python3"
  },
  "language_info": {
   "codemirror_mode": {
    "name": "ipython",
    "version": 3
   },
   "file_extension": ".py",
   "mimetype": "text/x-python",
   "name": "python",
   "nbconvert_exporter": "python",
   "pygments_lexer": "ipython3",
   "version": "3.7.3"
  }
 },
 "nbformat": 4,
 "nbformat_minor": 2
}
