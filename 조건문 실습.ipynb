{
 "cells": [
  {
   "cell_type": "markdown",
   "metadata": {},
   "source": [
    "# password:1234 입력받은 값이 같으면\n",
    "\n",
    "하하하하하하 하는 법 알았다"
   ]
  },
  {
   "cell_type": "code",
   "execution_count": 2,
   "metadata": {},
   "outputs": [
    {
     "name": "stdout",
     "output_type": "stream",
     "text": [
      "패스워드를 입력하시오: 1234\n",
      "성공\n"
     ]
    }
   ],
   "source": [
    "#password:1234 입력받은 값이 같으면\n",
    "\n",
    "password = 1234\n",
    "passattemt=int(input(\"패스워드를 입력하시오: \"))\n",
    "\n",
    "if password == passattemt:\n",
    "    print(\"성공\")\n",
    "else:\n",
    "    print(\"바보\")\n",
    "    \n"
   ]
  },
  {
   "cell_type": "code",
   "execution_count": 4,
   "metadata": {},
   "outputs": [
    {
     "name": "stdout",
     "output_type": "stream",
     "text": [
      "x: 4\n",
      "y: 41\n",
      "y가 큼\n"
     ]
    }
   ],
   "source": [
    "#x, y 입력받고 두 수 비교\n",
    "x = int(input(\"x: \"))\n",
    "y= int(input(\"y: \"))\n",
    "\n",
    "if x==y:\n",
    "    print(\"같음\")\n",
    "elif x>y:\n",
    "    print(\"x가 큼\")\n",
    "else:\n",
    "    print(\"y가 큼\")\n",
    "    "
   ]
  },
  {
   "cell_type": "code",
   "execution_count": 5,
   "metadata": {},
   "outputs": [
    {
     "name": "stdout",
     "output_type": "stream",
     "text": [
      "점수 입력: 5\n",
      "넌 안됨\n"
     ]
    }
   ],
   "source": [
    "#점수 입력 받아서 학점 부여\n",
    "\n",
    "score = int(input(\"점수 입력: \"))\n",
    "if score>90:\n",
    "    print(\"a\")\n",
    "elif 80<score<=90:\n",
    "    print(\"b\")\n",
    "else:\n",
    "    print(\"넌 안됨\")\n",
    "    "
   ]
  },
  {
   "cell_type": "code",
   "execution_count": 9,
   "metadata": {},
   "outputs": [
    {
     "name": "stdout",
     "output_type": "stream",
     "text": [
      "이름을 입력: marry\n",
      "12\n"
     ]
    }
   ],
   "source": [
    "names = {'marry':12, 'jane':25,'tom':35}\n",
    "#이름을 받고, names에 없으면 '000'값으로 names추가, 있으면 값을 출력\n",
    "name = input(\"이름을 입력: \")\n",
    "\n",
    "if name in names:\n",
    "    print(names[name])\n",
    "else:names[name] = '0000'\n",
    "\n",
    "    "
   ]
  },
  {
   "cell_type": "code",
   "execution_count": 1,
   "metadata": {},
   "outputs": [
    {
     "name": "stdout",
     "output_type": "stream",
     "text": [
      "mine ->가위 바위 보 중에서 선택가위\n",
      "your ->가위 바위 보 중에서 선택바위\n",
      "내가짐\n"
     ]
    }
   ],
   "source": [
    "#가위, 바위 , 보 게임\n",
    "#mine, yours ~\n",
    "'''\n",
    "mine = input('mine ->가위 바위 보 중에서 선택')\n",
    "your = input('your ->가위 바위 보 중에서 선택')\n",
    "\n",
    "if mine == '가위' and your == '보':\n",
    "    print(\"내가이김\")\n",
    "elif mine == '바위' and your == '가위':\n",
    "     print(\"내가이김\")\n",
    "elif mine == '보' and your == '바위':\n",
    "     print(\"내가이김\")\n",
    "    \n",
    "elif mine == '가위' and your == '바위':\n",
    "    print(\"내가짐\")\n",
    "elif mine == '바위' and your == '보':\n",
    "     print(\"내가짐\")\n",
    "elif mine == '보' and your == '가위':\n",
    "     print(\"내가짐\")\n",
    "\n",
    "else:\n",
    "           print('비김')\n",
    "'''\n",
    "\n",
    "mine = input('mine ->가위 바위 보 중에서 선택')\n",
    "your = input('your ->가위 바위 보 중에서 선택')\n",
    "\n",
    "if (mine == '가위' and your == '보') or (mine == '바위' and your == '가위') or (mine == '보' and your == '바위'):\n",
    "    print(\"내가이김\")\n",
    "elif (mine == '가위' and your == '바위') or (mine == '바위' and your == '보') or (mine == '보' and your == '가위'):\n",
    "     print(\"내가짐\")\n",
    "else :\n",
    "    print('비김')\n"
   ]
  },
  {
   "cell_type": "code",
   "execution_count": null,
   "metadata": {},
   "outputs": [],
   "source": []
  }
 ],
 "metadata": {
  "kernelspec": {
   "display_name": "Python 3",
   "language": "python",
   "name": "python3"
  },
  "language_info": {
   "codemirror_mode": {
    "name": "ipython",
    "version": 3
   },
   "file_extension": ".py",
   "mimetype": "text/x-python",
   "name": "python",
   "nbconvert_exporter": "python",
   "pygments_lexer": "ipython3",
   "version": "3.7.3"
  }
 },
 "nbformat": 4,
 "nbformat_minor": 2
}
