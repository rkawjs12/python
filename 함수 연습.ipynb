{
 "cells": [
  {
   "cell_type": "markdown",
   "metadata": {},
   "source": [
    "# 함수 연습"
   ]
  },
  {
   "cell_type": "code",
   "execution_count": 4,
   "metadata": {},
   "outputs": [
    {
     "name": "stdout",
     "output_type": "stream",
     "text": [
      "2\n"
     ]
    }
   ],
   "source": [
    "#절대값 리턴\n",
    "\n",
    "def abs_f(x):\n",
    "    if x<0 :\n",
    "        \n",
    "        return -x\n",
    "    else: \n",
    "        return x\n",
    "    \n",
    "x = -2\n",
    "\n",
    "print(abs_f(x))"
   ]
  },
  {
   "cell_type": "code",
   "execution_count": 3,
   "metadata": {},
   "outputs": [
    {
     "name": "stdout",
     "output_type": "stream",
     "text": [
      "314.0\n"
     ]
    }
   ],
   "source": [
    "#반지름을 받아서 원의 면적을 리턴하는 함수\n",
    "def squ_nu(x):\n",
    "    return pow(x,2)*3.14\n",
    "\n",
    "#x**2*3.14\n",
    "#여기에서 pow함수 쓰는 법을 알아보자\n",
    "n = 10\n",
    "print(squ_nu(n))"
   ]
  },
  {
   "cell_type": "code",
   "execution_count": 12,
   "metadata": {},
   "outputs": [
    {
     "name": "stdout",
     "output_type": "stream",
     "text": [
      "********************\n",
      "이름 : 유승우\n",
      "이메일 : dbtmddn333@naver.com\n",
      "소속 :  멀티캠퍼스 A\n",
      "********************\n",
      "멀티캠퍼스 A\n"
     ]
    },
    {
     "data": {
      "text/plain": [
       "str"
      ]
     },
     "execution_count": 12,
     "metadata": {},
     "output_type": "execute_result"
    }
   ],
   "source": [
    "#이름, 주소, 이메일을 받고 명함을 출력하는 함수\n",
    "\n",
    "def print_business_card(x,y,z):\n",
    "    print('*'*20)\n",
    "    print(\"이름 :\", x)\n",
    "    print(\"이메일 :\",  y)\n",
    "    print(\"소속 : \", z)\n",
    "    print('*'*20)\n",
    "    \n",
    "    \n",
    "    \n",
    "x, y, z = ['유승우', 'dbtmddn333@naver.com', '멀티캠퍼스 A']\n",
    "print_business_card(x, y, z)"
   ]
  },
  {
   "cell_type": "code",
   "execution_count": 4,
   "metadata": {},
   "outputs": [
    {
     "name": "stdout",
     "output_type": "stream",
     "text": [
      "21\n",
      "720\n"
     ]
    }
   ],
   "source": [
    "#일반 매개변수['sum','mul']와 가변매개변수를 받고,\n",
    "#'sum'이면 가변매개변수의 합, 'mul'이면 가변매개변수의 곱을 출력\n",
    "\n",
    "def sumormul (x , *y):\n",
    "    if x == 'sum':\n",
    "        coresum = 0\n",
    "        for ys in y:\n",
    "            coresum +=ys\n",
    "        return coresum\n",
    "    \n",
    "    elif x == 'mul':\n",
    "        coremul = 1\n",
    "        for ym in y:\n",
    "            coremul *= ym\n",
    "        return coremul\n",
    "    \n",
    " \n",
    "print(sumormul('sum', 1,2,3,4,5,6))\n",
    "print(sumormul('mul', 1,2,3,4,5,6))\n",
    "        "
   ]
  },
  {
   "cell_type": "code",
   "execution_count": 20,
   "metadata": {},
   "outputs": [
    {
     "name": "stdout",
     "output_type": "stream",
     "text": [
      "hi evryone\n",
      "knn asd\n"
     ]
    }
   ],
   "source": [
    "def report (stringx, who=\"evryone\"):\n",
    "    print(stringx,who)\n",
    "    \n",
    "report('hi')\n",
    "report('knn','asd')\n",
    "#이거 좀 봐야함"
   ]
  },
  {
   "cell_type": "code",
   "execution_count": 19,
   "metadata": {},
   "outputs": [
    {
     "name": "stdout",
     "output_type": "stream",
     "text": [
      "[2, 4, 6]\n"
     ]
    }
   ],
   "source": [
    "#가변매개변수로 값을 받아서 짝수만 출력하는 함수\n",
    "def prinsc(*x):\n",
    "    list = []\n",
    "    for y in x:\n",
    "        if y%2 == 0:\n",
    "            list.append(y)\n",
    "    print(list)\n",
    "    \n",
    "prinsc(1,2,3,4,5,6,7)"
   ]
  },
  {
   "cell_type": "code",
   "execution_count": 13,
   "metadata": {},
   "outputs": [
    {
     "name": "stdout",
     "output_type": "stream",
     "text": [
      "5 ()\n"
     ]
    }
   ],
   "source": [
    "def foo(a,*b):\n",
    "    print(a,b)\n",
    "foo(5)"
   ]
  },
  {
   "cell_type": "code",
   "execution_count": 50,
   "metadata": {},
   "outputs": [
    {
     "name": "stdout",
     "output_type": "stream",
     "text": [
      "1 9\n"
     ]
    }
   ],
   "source": [
    "#가변 매개변수를 받고 최대값과 최소값을 출력하는 함수\n",
    "\n",
    "def minmax(*x):\n",
    "    min = max = x[0]\n",
    "    \n",
    "    for y in x:\n",
    "        if y> max:\n",
    "            max = y\n",
    "        elif y< min:\n",
    "            min = y\n",
    "            \n",
    "    print(min ,  max)\n",
    "    \n",
    "\n",
    "minmax(1,2,3,4,5,6,7,8,9)"
   ]
  },
  {
   "cell_type": "code",
   "execution_count": 53,
   "metadata": {},
   "outputs": [
    {
     "name": "stdout",
     "output_type": "stream",
     "text": [
      "45 6\n"
     ]
    }
   ],
   "source": [
    "#가변 매개변수와 kw매개변수를 받은 후 가변매개변수의 합과  \n",
    "#kw매개변수의 합\n",
    "\n",
    "def varSum(*argsm,**kw):\n",
    "    sumarg = 0\n",
    "    sumkw = 0\n",
    "    list1 = list(kw.values())\n",
    "    #여기서 kw.values()하면 나오는 값이 리스트 형태가 아니라서 list로 자료형을 변환해야한다.\n",
    "    \n",
    "    for i in argsm:\n",
    "        sumarg += i\n",
    "    \n",
    "    \n",
    "    \n",
    "    for i in list1:\n",
    "        sumkw += i\n",
    "        \n",
    "    print(sumarg, sumkw)\n",
    "\n",
    "varSum(1,2,3,4,5,6,7,8,9, a=1, b=2, w=3)\n",
    "#varSum(1,2,3,4,5,6,7,8,9, a=1, b=2, w=3)\n",
    "#여기에서 a=1, b=2 .... 에서 'a'로 쓰면 안되는 이유는 여기서 a는 변수 명이고 =이 대입연산자, 뒤에 있는 값은 대입되는 값이다. 그래서 변수 명에 기호가 쓰이면 안되니까 'a'가 사용이 안되는 것이다."
   ]
  },
  {
   "cell_type": "code",
   "execution_count": 17,
   "metadata": {},
   "outputs": [
    {
     "name": "stdout",
     "output_type": "stream",
     "text": [
      "1 2 {'z': 1, 'q': 2, 'a': 3}\n"
     ]
    }
   ],
   "source": [
    " def foo(x, y, **kw): \n",
    "        print(x,y, kw) \n",
    "        \n",
    "foo(1,2, z=1, q = 2, a = 3)"
   ]
  },
  {
   "cell_type": "code",
   "execution_count": 25,
   "metadata": {},
   "outputs": [
    {
     "name": "stdout",
     "output_type": "stream",
     "text": [
      "arg : 10\n",
      "one two three "
     ]
    }
   ],
   "source": [
    "def test_kwargs(arg, **kwargs): \n",
    "    print(\"arg :\", arg) \n",
    "    for key in kwargs: \n",
    "        print(kwargs[key], end = ' ')\n",
    "        \n",
    "test_kwargs(10, a=\"one\", b=\"two\", c=\"three\") "
   ]
  },
  {
   "cell_type": "code",
   "execution_count": 38,
   "metadata": {},
   "outputs": [
    {
     "name": "stdout",
     "output_type": "stream",
     "text": [
      "[('a', 1), ('b', 2), ('c', 3)]\n"
     ]
    }
   ],
   "source": [
    "#kw 매개변수를 받은 후 kw 값 올림차순으로 정렬해서 리턴하시오\n",
    "def foo3(**kw):\n",
    "     return sorted(kw.items(), key=lambda x:x[1])\n",
    "     #여기서 sorted(딕션너리, key)\n",
    "    #key는 sorted에서 reverse =true 와 같은 변수로 인식하면 되는데, 어떠한 것을 ket로 사용할 것인지 결정하는 것이다.\n",
    "    #key뒤에 있는 lambda는 함수를 많이 사용하지 않는 함수를 일시적으로 생성하여 사용하기 위해 사용한다.\n",
    "    #x:x[1]은 딕셔너리의 타입으로 되어있는 key와 value 사이에서 어떠한 것을 변수로 설정하는지 결정하는 것이다.\n",
    "    #x[0]은 key값을 x[1]은 value 값을 의미한다.\n",
    "    \n",
    "print(foo3(a=1,b=2,c=3))\n",
    "\n",
    "#lamnbda 뒤에 있는 것 내용\n",
    "#print(foo3(a=1,b=2,c=3))\n",
    "#지현씨한테 내가 하고 싶었던 것 물어본다\n",
    "#####################################################"
   ]
  },
  {
   "cell_type": "code",
   "execution_count": 39,
   "metadata": {},
   "outputs": [
    {
     "name": "stdout",
     "output_type": "stream",
     "text": [
      "[(1, 'asd'), (2, 'asc'), (3, 'ase')]\n"
     ]
    }
   ],
   "source": [
    "kw2 = {1:'asd',2:'asc',3:'ase'}\n",
    "print(sorted(kw2.items(), key=lambda x:x[0]))"
   ]
  },
  {
   "cell_type": "code",
   "execution_count": null,
   "metadata": {},
   "outputs": [],
   "source": []
  }
 ],
 "metadata": {
  "kernelspec": {
   "display_name": "Python 3",
   "language": "python",
   "name": "python3"
  },
  "language_info": {
   "codemirror_mode": {
    "name": "ipython",
    "version": 3
   },
   "file_extension": ".py",
   "mimetype": "text/x-python",
   "name": "python",
   "nbconvert_exporter": "python",
   "pygments_lexer": "ipython3",
   "version": "3.7.3"
  }
 },
 "nbformat": 4,
 "nbformat_minor": 2
}
