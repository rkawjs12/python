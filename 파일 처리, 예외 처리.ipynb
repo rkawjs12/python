{
 "cells": [
  {
   "cell_type": "code",
   "execution_count": null,
   "metadata": {},
   "outputs": [],
   "source": [
    "score = []\n",
    "with open('score.txt') as f: \n",
    "    for line in f: \n",
    "        score.append(int(line))\n",
    "print(score)\n",
    "\n"
   ]
  },
  {
   "cell_type": "markdown",
   "metadata": {},
   "source": [
    "# pwd 해서 나오는 경로에 파일 저장 후 , 실행"
   ]
  },
  {
   "cell_type": "code",
   "execution_count": null,
   "metadata": {},
   "outputs": [],
   "source": [
    "pwd"
   ]
  },
  {
   "cell_type": "markdown",
   "metadata": {},
   "source": [
    "* w모드일때 write\n",
    "* r모드일때 read"
   ]
  },
  {
   "cell_type": "code",
   "execution_count": null,
   "metadata": {},
   "outputs": [],
   "source": [
    "# 김소월 진달래꽃 - 파일에 write\n",
    "# 파일을 열어서 4가지 모드로 읽어서 출력\n",
    "\n",
    "text ='''나 보기가 역겨워\n",
    "가실 때에는\n",
    "말없이 고이 보내 드리오리다.\n",
    "\n",
    "영변에 약산\n",
    "진달래꽃\n",
    "아름 따다 가실 길에 뿌리오리다.\n",
    "\n",
    "가시는 걸음 걸음\n",
    "놓인 그 꽃을\n",
    "사뿐이 즈려 밟고 가시옵소서\n",
    "\n",
    "나 보기가 역겨워\n",
    "가실 때에는\n",
    "죽어도 아니 눈물 흘리오리다.'''\n",
    "\n",
    "# 빈 txt에 시 쓰기\n",
    "f = open(\"score.txt\", \"w\")\n",
    "f.write(text)\n",
    "f.close()\n",
    "\n",
    "# 한 줄씩 읽어오기\n",
    "f = open(\"score.txt\", \"r\")\n",
    "#a = f.readline()\n",
    "#print(a)\n",
    "print()\n",
    "#b = f.readline()\n",
    "#print(b)\n",
    "print()\n",
    "\n",
    "# 한 줄씩 읽어오기 - for구문 이용\n",
    "#for line in f:\n",
    "#    print(line)\n",
    "\n",
    "\n",
    "\n",
    "# 파일 내용을 통째로 읽어 들여 한줄씩 리스트에 저장\n",
    "my_list = []\n",
    "#for line in f:\n",
    "#    my_list.append(line)\n",
    "#print(my_list)\n",
    "\n",
    "#with open('score.txt') as f:\n",
    "#    for line in f:\n",
    "#        my_list.append(line)\n",
    "#print(my_list)\n",
    "#print()\n",
    "\n",
    "# n byte 읽어보기\n",
    "# f.read(n)\n",
    "#d = f.read(32)\n",
    "#print(d)\n",
    "#print()\n",
    "\n",
    "# 한 줄씩 읽어와서 while문 이용해서 출력\n",
    "#line=f.readline()\n",
    "#while line:\n",
    "#    print(line)\n",
    "#    line=f.readline()\n",
    "#print()\n",
    "\n",
    "\n",
    "# 한 줄씩 읽어와서 for문 이용해서 출력\n",
    "#data = f.readlines()\n",
    "#for line in data:\n",
    "#   print(line)"
   ]
  },
  {
   "cell_type": "code",
   "execution_count": null,
   "metadata": {},
   "outputs": [],
   "source": [
    "# ban 파일에 2 key, 45을 value로해서 딕셔너리로 출력\n",
    "# with 이용해서 file 열 때 형식 지정\n",
    "\n",
    "D={}\n",
    "\n",
    "with open('ban.txt', 'r') as f:\n",
    "    for line in f:\n",
    "        (key, val) = line.split()\n",
    "        D[(key)] = (val)\n",
    "\n",
    "print(D)"
   ]
  },
  {
   "cell_type": "code",
   "execution_count": 14,
   "metadata": {},
   "outputs": [
    {
     "name": "stdout",
     "output_type": "stream",
     "text": [
      "{'2': '45', '4': '39', '1': '41', '3': '40'}\n"
     ]
    }
   ],
   "source": [
    "# teacher's solution?????\n",
    "\n",
    "f = open('ban.txt', 'r')\n",
    "D ={}\n",
    "\n",
    "for row in f:\n",
    "    #(key, val) = line.split()\n",
    "    D[row.split()[0]] = row.split()[1] \n",
    "print(D)"
   ]
  },
  {
   "cell_type": "code",
   "execution_count": null,
   "metadata": {},
   "outputs": [],
   "source": [
    "# ban_student.txt 파일을 읽어서 다음과 같이 출력\n",
    "f = open('ban_student.txt', 'r')\n",
    "\n",
    "D={}\n",
    "\n",
    "for line in f:\n",
    "    items = line.split()\n",
    "    key, values = items[0], items[1:]\n",
    "    D[key] = values\n",
    "\n",
    "print(D)"
   ]
  },
  {
   "cell_type": "code",
   "execution_count": null,
   "metadata": {},
   "outputs": [],
   "source": [
    "# stockcode.txt 파일을 read로 읽어서 출력\n",
    "f=open('stockcode.txt','r')\n",
    "\n",
    "a = f.read()\n",
    "print(a)\n",
    "        "
   ]
  },
  {
   "cell_type": "code",
   "execution_count": null,
   "metadata": {},
   "outputs": [],
   "source": [
    "# stockcode.txt 파일을 readline으로 읽어서 출력\n",
    "\n",
    "f=open('stockcode.txt','r')\n",
    "\n",
    "b = f.readline()\n",
    "while b:\n",
    "    print(b)"
   ]
  },
  {
   "cell_type": "code",
   "execution_count": null,
   "metadata": {},
   "outputs": [],
   "source": [
    "# stockcode.txt 파일에서 삼성전자의 거래소 번호를 출력하세요\n",
    "\n",
    "\n",
    "f = open('stockcode.txt','r')\n",
    "for line in f:\n",
    "    if line.split()[1]=='삼성전자':\n",
    "        print(line.split()[0])\n"
   ]
  },
  {
   "cell_type": "code",
   "execution_count": null,
   "metadata": {},
   "outputs": [],
   "source": [
    "# text를 입력받아 메모장에 쓰는 함수를 작성하시오.\n",
    "\n",
    "def writtings():\n",
    "    text = input('텍스트를 입력하세요 : ')\n",
    "    f = open('mydata.txt','w')\n",
    "    f.write(text)\n",
    "    f.close()\n",
    "writtings()"
   ]
  },
  {
   "cell_type": "code",
   "execution_count": 15,
   "metadata": {},
   "outputs": [
    {
     "name": "stdout",
     "output_type": "stream",
     "text": [
      "텍스트를 입력하시오 :dd\n",
      "텍스트를 입력하시오 :dd\n",
      "텍스트를 입력하시오 :\n"
     ]
    }
   ],
   "source": [
    "# 값을 반복문을 통해 계속 받고 공백를 이용해 종료\n",
    "# w가 아닌 a로 형식 지정해야하는게 포인트\n",
    "\n",
    "def written():\n",
    "    while True:\n",
    "        text = input('텍스트를 입력하시오 :')\n",
    "        if text == '':\n",
    "            break\n",
    "        else:\n",
    "            f = open('mydata.txt','a')\n",
    "            f.write(text)\n",
    "    f.close()\n",
    "\n",
    "written()\n",
    "    "
   ]
  },
  {
   "cell_type": "code",
   "execution_count": null,
   "metadata": {},
   "outputs": [],
   "source": [
    "# txt파일을 복사해서 빈 txt파일에 붙여넣기\n",
    "\n",
    "f = open('stockcode.txt','r')\n",
    "data = f.read()\n",
    "g = open('stockcode1.txt','w')\n",
    "g.write(data)\n",
    "f.close()\n",
    "g.close()"
   ]
  },
  {
   "cell_type": "code",
   "execution_count": 1,
   "metadata": {},
   "outputs": [],
   "source": [
    "# cat.jpg파일 복사해 cat1.jpg파일 만들기\n",
    "# 형식 지정 rb, wb인거 주의!\n",
    "# 이미지는 binary파일인라 형식이 다른 거임.\n",
    "\n",
    "#p = open('cat.jpg','rb')\n",
    "#pdata = p.read()\n",
    "#t = open('cat1.jpg','wb')\n",
    "#t.write(pdata)\n",
    "#p.close()\n",
    "#t.close()\n",
    "\n",
    "# read(buf_size) : buf_size[byte]만큼 읽어온다.\n",
    "\n",
    "\n",
    "\n",
    "buf_size = 100\n",
    "\n",
    "p = open('cat.jpg','rb')\n",
    "pdata = p.read(buf_size)\n",
    "t = open('cat2.jpg','wb')\n",
    "\n",
    "while pdata:\n",
    "    pdata = p.read(buf_size)    \n",
    "    t.write(pdata)\n",
    "p.close()\n",
    "t.close()"
   ]
  },
  {
   "cell_type": "code",
   "execution_count": null,
   "metadata": {},
   "outputs": [],
   "source": [
    "# spos 는 index와 같이 위치를 나타냄\n",
    "# f.seek(105) 105번째 문자를 찾아줌\n",
    "\n",
    "# f.read(100) : 105번째부터 100개의 문자를 읽어옴\n",
    "\n",
    "\n",
    "spos = 105\n",
    "size = 100\n",
    "\n",
    "f = open('stockcode.txt','r')\n",
    "g = open('stockcode3.txt','w')\n",
    "\n",
    "f.seek(spos)\n",
    "data = f.read(size)\n",
    "g.write(data)\n",
    "\n",
    "p = open('stockcode3.txt','r')\n",
    "data = p.read()\n",
    "print(data)"
   ]
  },
  {
   "cell_type": "markdown",
   "metadata": {},
   "source": [
    "# 예외 처리\n",
    "* 홈페이지 돌리기 위해, 최소한의로 예외 잡아두고.."
   ]
  },
  {
   "cell_type": "code",
   "execution_count": 1,
   "metadata": {},
   "outputs": [
    {
     "name": "stdout",
     "output_type": "stream",
     "text": [
      "name 'param' is not defined\n",
      "hi\n"
     ]
    }
   ],
   "source": [
    "try : #일단 실행\n",
    "    print(param)\n",
    "except Exception as e: #오류 품어도 실행 안됨\n",
    "    print(e)\n",
    "else: # 실행이 잘되면 else로 넘어감\n",
    "    print('hello')\n",
    "finally: # 무조건 실행\n",
    "    print('hi')"
   ]
  },
  {
   "cell_type": "code",
   "execution_count": null,
   "metadata": {},
   "outputs": [],
   "source": [
    "print('hello world')\n",
    "print(param)\n",
    "print('hello python')"
   ]
  },
  {
   "cell_type": "code",
   "execution_count": null,
   "metadata": {},
   "outputs": [],
   "source": [
    "try:\n",
    "    print('hello world')\n",
    "    print(param)\n",
    "except:\n",
    "    print('exception occurred')"
   ]
  },
  {
   "cell_type": "code",
   "execution_count": null,
   "metadata": {},
   "outputs": [],
   "source": [
    "try:\n",
    "    print('hello world')\n",
    "    print(param)\n",
    "except:\n",
    "    print('exception occurred')\n",
    "print('hello python')"
   ]
  },
  {
   "cell_type": "code",
   "execution_count": null,
   "metadata": {},
   "outputs": [],
   "source": [
    "try:\n",
    "    print('hello world')\n",
    "    print(param)\n",
    "except:\n",
    "    print('exception occurred')\n",
    "else:\n",
    "    print(\"xception doesn't occurred\")"
   ]
  },
  {
   "cell_type": "code",
   "execution_count": null,
   "metadata": {},
   "outputs": [],
   "source": [
    "try:\n",
    "    print('hello world')\n",
    "    print(param)\n",
    "except:\n",
    "    print('exception occurred')\n",
    "finally:\n",
    "    print(\"do!!!\")"
   ]
  },
  {
   "cell_type": "markdown",
   "metadata": {},
   "source": [
    "# test"
   ]
  },
  {
   "cell_type": "code",
   "execution_count": 3,
   "metadata": {},
   "outputs": [
    {
     "name": "stdout",
     "output_type": "stream",
     "text": [
      "아무 숫자를 입력하세요 : 15468\n",
      "15,468\n"
     ]
    }
   ],
   "source": [
    "# 정수를 입력받고 천자리에 '.'를 표시하세요\n",
    "# 뒤에서 부터 세개를 찍어야 해서 순서 역으로 num = num[::-1]\n",
    "# 하나씩 빼면서 3번째 자리에 ,를 입력.\n",
    "# enumerate이 0부터 시작해서 1를 더해준거\n",
    "\n",
    "# 출력하기 전에 다시 역순 ret = ret[::-1]\n",
    "\n",
    "num = input('아무 숫자를 입력하세요 : ')\n",
    "\n",
    "num = num[::-1]\n",
    "# 역순 확인 \n",
    "#print(num)\n",
    "ret = '' # 빈 스트링 문자열 만들어둠, 콤마 찍으려고\n",
    "\n",
    "for i,c in enumerate(num):\n",
    "    i=i+1 # 누적이되도록\n",
    "    if i!=len(num) and i%3 == 0: \n",
    "        ret += (c + ',') # ret = ret + c + ','\n",
    "    else:\n",
    "            ret += c\n",
    "ret = ret[::-1] # 다시 역순시켜 원본으로 만들어둠\n",
    "\n",
    "\n",
    "print(ret)"
   ]
  },
  {
   "cell_type": "code",
   "execution_count": 4,
   "metadata": {},
   "outputs": [
    {
     "name": "stdout",
     "output_type": "stream",
     "text": [
      "{'g': 3, 'l': 3, 'k': 3, 'o': 2, 'd': 4, 'r': 1, '9': 1, '0': 1, 't': 1, 'f': 4, 's': 2, 'j': 4, 'v': 1, 'c': 1, '4': 2, '5': 1}\n"
     ]
    }
   ],
   "source": [
    "# 텍스트에서 각 단어별로 세가지고 딕셔너리 형태로 출력\n",
    "def getTextFreq(filename):\n",
    "    f = open(filename,'r')\n",
    "    data = f.read()\n",
    "    # print(data)\n",
    "    ret = {} # 빈 딕셔너리 하나를 만듦\n",
    "    for c in data:\n",
    "        if c in ret:\n",
    "            ret[c] += 1 # value를 1로 하고 생성시킨후, 나중엔 계속 카운트\n",
    "        else:\n",
    "            ret[c] = 1\n",
    "    return ret\n",
    "    f.close()\n",
    "\n",
    "ret = getTextFreq('mydata.txt')\n",
    "print(ret)\n",
    "\n",
    "# 맨날 close하는거 귀찮아서 with문 이용해서 file 열기"
   ]
  },
  {
   "cell_type": "code",
   "execution_count": null,
   "metadata": {},
   "outputs": [],
   "source": [
    "t1 = input('찾을 단어를 입력하세요 :')\n",
    "t2 = input('변경할 단어를 입력하세요 : ')\n",
    "\n",
    "f = open('mydata.txt','r')\n",
    "g = open('mydata2.txt','w')\n",
    "\n",
    "data = f.read()\n",
    "data = data.replace(t1, t2)\n",
    "\n",
    "g.write(data)\n",
    "\n",
    "f.close()\n",
    "g.close()\n",
    "\n",
    "        \n",
    "\n",
    "print('[%s]를 [%s]로 변경하였습니다.' %(t1, t2))"
   ]
  },
  {
   "cell_type": "code",
   "execution_count": 12,
   "metadata": {},
   "outputs": [
    {
     "name": "stdout",
     "output_type": "stream",
     "text": [
      "찾을 단어를 입력하세요 :k\n",
      "변경할 단어를 입력하세요 : i\n",
      "[k]를 [i]로 변경하였습니다.\n"
     ]
    }
   ],
   "source": [
    "f = open('mydata.txt','r')\n",
    "g = open('mydata2.txt','w')\n",
    "data = f.readlines()\n",
    "\n",
    "t1 = input('찾을 단어를 입력하세요 :')\n",
    "t2 = input('변경할 단어를 입력하세요 : ')\n",
    "\n",
    "for i in data:\n",
    "    i = i.replace(t1,t2)\n",
    "    g.write(i)\n",
    "    \n",
    "f.close()\n",
    "g.close()\n",
    "\n",
    "print('[%s]를 [%s]로 변경하였습니다.' %(t1, t2))\n",
    "\n"
   ]
  },
  {
   "cell_type": "code",
   "execution_count": null,
   "metadata": {},
   "outputs": [],
   "source": [
    "# 파일에서 단어의 갯수를 출력하는 함수를 만드세요\n",
    "\n",
    "word = 'g'\n",
    "\n",
    "def countWord(filename, word):\n",
    "    f = open(filename,'r')\n",
    "    data = f.read()\n",
    "    return data.count(word)\n",
    "    \n",
    "ret = countWord('mydata.txt', word)\n",
    "print('[%s]의 갯수 : %d' %(word, ret))"
   ]
  },
  {
   "cell_type": "code",
   "execution_count": 4,
   "metadata": {},
   "outputs": [
    {
     "name": "stdout",
     "output_type": "stream",
     "text": [
      "[o]의 갯수 : 2\n"
     ]
    }
   ],
   "source": [
    "# teacher's solution\n",
    "#  p = data.find(word, p+1)\n",
    "# p+1인덱스에서부터 word를 찾아라\n",
    "# 찾으면 p=-1, 못찾으면 p=0\n",
    "\n",
    "# data.find(word) = index\n",
    "\n",
    "word = 'o'\n",
    "\n",
    "def countWord(filename, word):\n",
    "    f = open(filename, 'r')\n",
    "    data = f.read()\n",
    "    p = data.find(word)\n",
    "    count=0\n",
    "    \n",
    "    while p != -1:\n",
    "        count=count+1\n",
    "        p = data.find(word, p+1)\n",
    "    return count\n",
    "\n",
    "ret = countWord('mydata.txt', word)\n",
    "print('[%s]의 갯수 : %d' %(word, ret))\n",
    "        "
   ]
  },
  {
   "cell_type": "code",
   "execution_count": null,
   "metadata": {},
   "outputs": [],
   "source": []
  }
 ],
 "metadata": {
  "kernelspec": {
   "display_name": "Python 3",
   "language": "python",
   "name": "python3"
  },
  "language_info": {
   "codemirror_mode": {
    "name": "ipython",
    "version": 3
   },
   "file_extension": ".py",
   "mimetype": "text/x-python",
   "name": "python",
   "nbconvert_exporter": "python",
   "pygments_lexer": "ipython3",
   "version": "3.7.3"
  }
 },
 "nbformat": 4,
 "nbformat_minor": 2
}
