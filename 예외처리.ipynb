{
 "cells": [
  {
   "cell_type": "markdown",
   "metadata": {},
   "source": [
    "# 예외처리"
   ]
  },
  {
   "cell_type": "code",
   "execution_count": 2,
   "metadata": {},
   "outputs": [
    {
     "name": "stdout",
     "output_type": "stream",
     "text": [
      "a : 5\n",
      "b : 0\n",
      "cannot divide by zero\n"
     ]
    }
   ],
   "source": [
    "a = 5 \n",
    "b = 0 \n",
    "print('a :', a) \n",
    "print('b :', b)\n",
    "try: \n",
    "    c = a / b \n",
    "\n",
    "except ZeroDivisionError: \n",
    "    print('cannot divide by zero') \n",
    "else: print(c)"
   ]
  },
  {
   "cell_type": "code",
   "execution_count": 9,
   "metadata": {},
   "outputs": [
    {
     "name": "stdout",
     "output_type": "stream",
     "text": [
      "hello\n",
      "[1, 2, 3]\n",
      "3\n",
      "else part\n",
      "good bye\n"
     ]
    }
   ],
   "source": [
    "#########################\n",
    "a = 5 \n",
    "b = 1 \n",
    "L = [1,2,3] \n",
    "\n",
    "print('hello')\n",
    "\n",
    "try : \n",
    "    c = a / b \n",
    "    print(L) \n",
    "    print(L[2]) \n",
    "except ZeroDivisionError: \n",
    "    print('cannot divide by zero !!!') \n",
    "except NameError: \n",
    "    print('no variable named \"x\"')\n",
    "except IndexError: \n",
    "    print('out of indexing in list') \n",
    "else: \n",
    "    print('else part')\n",
    "print('good bye')"
   ]
  },
  {
   "cell_type": "code",
   "execution_count": null,
   "metadata": {},
   "outputs": [],
   "source": []
  }
 ],
 "metadata": {
  "kernelspec": {
   "display_name": "Python 3",
   "language": "python",
   "name": "python3"
  },
  "language_info": {
   "codemirror_mode": {
    "name": "ipython",
    "version": 3
   },
   "file_extension": ".py",
   "mimetype": "text/x-python",
   "name": "python",
   "nbconvert_exporter": "python",
   "pygments_lexer": "ipython3",
   "version": "3.7.3"
  }
 },
 "nbformat": 4,
 "nbformat_minor": 2
}
